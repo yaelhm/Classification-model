{
 "cells": [
  {
   "cell_type": "markdown",
   "id": "terminal-ability",
   "metadata": {},
   "source": [
    "# Classification model Inference"
   ]
  },
  {
   "cell_type": "code",
   "execution_count": 1,
   "id": "designing-shanghai",
   "metadata": {},
   "outputs": [],
   "source": [
    "%reload_ext autoreload\n",
    "%autoreload 2\n",
    "%matplotlib inline\n",
    "\n",
    "import fastai\n",
    "from fastai.vision import *\n",
    "\n",
    "import pandas as pd\n",
    "\n",
    "import warnings\n",
    "warnings.filterwarnings('ignore')\n",
    "import numpy as np\n",
    "from pathlib import Path\n",
    "\n",
    "from sklearn.metrics import confusion_matrix, ConfusionMatrixDisplay\n",
    "from sklearn.metrics import f1_score,precision_score,recall_score, accuracy_score\n",
    "from sklearn.metrics import roc_curve,auc"
   ]
  },
  {
   "cell_type": "code",
   "execution_count": 2,
   "id": "developed-stomach",
   "metadata": {},
   "outputs": [
    {
     "data": {
      "text/plain": [
       "2"
      ]
     },
     "execution_count": 2,
     "metadata": {},
     "output_type": "execute_result"
    }
   ],
   "source": [
    "import torch\n",
    "torch.cuda.set_device(2)\n",
    "torch.cuda.current_device()"
   ]
  },
  {
   "cell_type": "markdown",
   "id": "introductory-doubt",
   "metadata": {},
   "source": [
    "# Results function "
   ]
  },
  {
   "cell_type": "code",
   "execution_count": 3,
   "id": "psychological-hygiene",
   "metadata": {},
   "outputs": [],
   "source": [
    "def result_infe(pred_id,trues_id,total):  \n",
    "#     from sklearn.metrics import accuracy_score, f1_score\n",
    "    #accuracy\n",
    "    acc = accuracy_score(pred_id, trues_id)\n",
    "    print('Test set: accuracy is {0}.' .format(acc))\n",
    "\n",
    "    #F1 score\n",
    "    F1_validation=f1_score(pred_id,trues_id, average='weighted')\n",
    "    print('Test set: F1_score is {0}.' .format(F1_validation))\n",
    "    \n",
    "\n",
    "    precision_validation=precision_score(pred_id, trues_id,average=None)\n",
    "    recall_validation=recall_score(pred_id, trues_id,average=None)\n",
    "    print('Test set: precision_score = {0},recall_score = {1} - HGG'.format(precision_validation[0],recall_validation[0])) \n",
    "    print('Test set: precision_score = {0},recall_score = {1} - LGG'.format(precision_validation[1],recall_validation[1]))\n",
    "    \n",
    "    total['acc'].append(acc)\n",
    "    total['F1'].append(F1_validation)\n",
    "    \n",
    "    for i in range(2):\n",
    "        total['pre'][i].append(precision_validation[i])\n",
    "        total['rec'][i].append(recall_validation[i])\n",
    "        \n",
    "        \n",
    "    # Majority of Votes:\n",
    "    MV_labels = [];                                          # majority of votes decision list\n",
    "    MV_predicted_labels = []\n",
    "    for i in range(0, len(pred_id),5):               \n",
    "        curr_patient = pred_id[i:i+5]                        # running on each patient\n",
    "        occurances = Counter(curr_patient)                   # finding how many times each prediction was appeared\n",
    "        max_key = max(occurances, key = occurances.get)      # extracting the most common appearance\n",
    "        MV_labels.append(max_key) \n",
    "    #     print(\"for patient \"+str(i)+' the *predicted* diagnosos is '+str(max_key))\n",
    "        MV_predicted_labels.append(max_key)\n",
    "\n",
    "    MV_True_labels = [];                                          # majority of votes decision list\n",
    "    for i in range(0, len(trues_id),5):               \n",
    "        curr_patient = trues_id[i:i+5]                        # running on each patient\n",
    "        occurances = Counter(curr_patient)                   # finding how many times each prediction was appeared\n",
    "        max_key = max(occurances, key = occurances.get)      # extracting the most common appearance\n",
    "        MV_True_labels.append(max_key) \n",
    "    #     print(\"for patient \"+str(i)+' the *True* diagnosos is '+str(max_key))\n",
    "\n",
    "    lst=[]\n",
    "    for i in range(len(MV_True_labels)):    \n",
    "        if MV_True_labels[i] == MV_labels[i]:  \n",
    "    #         print(\"patient\" +str(i+1)+\" TRUE prediction\")\n",
    "            lst.append(\"TRUE\")\n",
    "        else:  \n",
    "    #         print(\"patient\" +str(i+1)+\" FALSE prediction\")\n",
    "            lst.append(\"FALSE\")\n",
    "\n",
    "    # Accuracy after majority of votes:\n",
    "    acc_MV = (lst.count(\"TRUE\")/len(MV_True_labels))\n",
    "#     acc_MV2= accuracy_score(MV_True_labels, MV_predicted_labels)\n",
    "#     print(acc_MV==acc_MV2)\n",
    "    print('Test set: accuracy after majority of votes is {0}.' .format(acc_MV))\n",
    "\n",
    "    # F1 score\n",
    "    from sklearn.metrics import f1_score\n",
    "    F1_validation=f1_score(MV_predicted_labels,MV_True_labels, average='weighted')\n",
    "    print('Test set: F1-score after majority of votes is {0}.' .format(F1_validation))\n",
    "    \n",
    "    total['MV_acc'].append(acc_MV)\n",
    "    total['MV_F1'].append(F1_validation)\n",
    "    "
   ]
  },
  {
   "cell_type": "markdown",
   "id": "posted-quarter",
   "metadata": {},
   "source": [
    "# Load model"
   ]
  },
  {
   "cell_type": "code",
   "execution_count": 6,
   "id": "worse-length",
   "metadata": {},
   "outputs": [],
   "source": [
    "class FocalLoss(nn.Module):\n",
    "    def __init__(self, alpha, gamma):\n",
    "        super().__init__()\n",
    "        self.alpha = alpha\n",
    "        self.gamma = gamma\n",
    "\n",
    "    def forward(self, inputs, targets, **kwargs):\n",
    "        CE_loss = nn.CrossEntropyLoss(reduction='none')(inputs, targets)\n",
    "        pt = torch.exp(-CE_loss)\n",
    "        F_loss = self.alpha * ((1-pt)**self.gamma) * CE_loss\n",
    "        return F_loss.mean()"
   ]
  },
  {
   "cell_type": "code",
   "execution_count": 7,
   "id": "encouraging-technical",
   "metadata": {},
   "outputs": [],
   "source": [
    "def new_model(*args, **kwargs):\n",
    "      \n",
    "    model = models.resnet152(*args, **kwargs)\n",
    "    model.conv1 = nn.Conv2d(4, 64, kernel_size=7, stride=2, padding=3, bias=False)\n",
    "    return model"
   ]
  },
  {
   "cell_type": "code",
   "execution_count": 8,
   "id": "prime-burst",
   "metadata": {},
   "outputs": [
    {
     "name": "stdout",
     "output_type": "stream",
     "text": [
      "fold 1//////////////////\n",
      "You can deactivate this warning by passing `no_check=True`.\n",
      "Test set: accuracy is 0.8363636363636363.\n"
     ]
    },
    {
     "ename": "UnboundLocalError",
     "evalue": "local variable 'f1_score' referenced before assignment",
     "output_type": "error",
     "traceback": [
      "\u001b[0;31m---------------------------------------------------------------------------\u001b[0m",
      "\u001b[0;31mUnboundLocalError\u001b[0m                         Traceback (most recent call last)",
      "\u001b[0;32m<ipython-input-8-b7b0ca514f1e>\u001b[0m in \u001b[0;36m<module>\u001b[0;34m\u001b[0m\n\u001b[1;32m     42\u001b[0m     \u001b[0mtrues_id\u001b[0m \u001b[0;34m=\u001b[0m \u001b[0mnp\u001b[0m\u001b[0;34m.\u001b[0m\u001b[0marray\u001b[0m\u001b[0;34m(\u001b[0m\u001b[0;34m[\u001b[0m\u001b[0mcladd_id_dict\u001b[0m\u001b[0;34m[\u001b[0m\u001b[0ma\u001b[0m\u001b[0;34m]\u001b[0m \u001b[0;32mfor\u001b[0m \u001b[0ma\u001b[0m \u001b[0;32min\u001b[0m \u001b[0mtrues\u001b[0m\u001b[0;34m]\u001b[0m\u001b[0;34m)\u001b[0m\u001b[0;34m\u001b[0m\u001b[0;34m\u001b[0m\u001b[0m\n\u001b[1;32m     43\u001b[0m \u001b[0;34m\u001b[0m\u001b[0m\n\u001b[0;32m---> 44\u001b[0;31m     \u001b[0mresult_infe\u001b[0m\u001b[0;34m(\u001b[0m\u001b[0mpred_id\u001b[0m\u001b[0;34m,\u001b[0m\u001b[0mtrues_id\u001b[0m\u001b[0;34m,\u001b[0m\u001b[0mtotal_result\u001b[0m\u001b[0;34m)\u001b[0m\u001b[0;34m\u001b[0m\u001b[0;34m\u001b[0m\u001b[0m\n\u001b[0m",
      "\u001b[0;32m<ipython-input-3-5bd338ac35f5>\u001b[0m in \u001b[0;36mresult_infe\u001b[0;34m(pred_id, trues_id, total)\u001b[0m\n\u001b[1;32m      6\u001b[0m \u001b[0;34m\u001b[0m\u001b[0m\n\u001b[1;32m      7\u001b[0m     \u001b[0;31m#F1 score\u001b[0m\u001b[0;34m\u001b[0m\u001b[0;34m\u001b[0m\u001b[0;34m\u001b[0m\u001b[0m\n\u001b[0;32m----> 8\u001b[0;31m     \u001b[0mF1_validation\u001b[0m\u001b[0;34m=\u001b[0m\u001b[0mf1_score\u001b[0m\u001b[0;34m(\u001b[0m\u001b[0mpred_id\u001b[0m\u001b[0;34m,\u001b[0m\u001b[0mtrues_id\u001b[0m\u001b[0;34m,\u001b[0m \u001b[0maverage\u001b[0m\u001b[0;34m=\u001b[0m\u001b[0;34m'weighted'\u001b[0m\u001b[0;34m)\u001b[0m\u001b[0;34m\u001b[0m\u001b[0;34m\u001b[0m\u001b[0m\n\u001b[0m\u001b[1;32m      9\u001b[0m     \u001b[0mprint\u001b[0m\u001b[0;34m(\u001b[0m\u001b[0;34m'Test set: F1_score is {0}.'\u001b[0m \u001b[0;34m.\u001b[0m\u001b[0mformat\u001b[0m\u001b[0;34m(\u001b[0m\u001b[0mF1_validation\u001b[0m\u001b[0;34m)\u001b[0m\u001b[0;34m)\u001b[0m\u001b[0;34m\u001b[0m\u001b[0;34m\u001b[0m\u001b[0m\n\u001b[1;32m     10\u001b[0m \u001b[0;34m\u001b[0m\u001b[0m\n",
      "\u001b[0;31mUnboundLocalError\u001b[0m: local variable 'f1_score' referenced before assignment"
     ]
    }
   ],
   "source": [
    "total_result={'acc':[],'F1':[],'pre':[[],[]],'rec':[[],[]],'MV_acc':[],'MV_F1':[]}\n",
    "\n",
    "path= #BLINDED\n",
    "\n",
    "test_images_path=Path(path+\"/TEST_images\")\n",
    "\n",
    "df_test = pd.read_csv(path+\"/sample_submission.csv\")\n",
    "\n",
    "\n",
    "for i_fold in range(1,6):\n",
    "    print(f'fold {i_fold}//////////////////')\n",
    "    \n",
    "    bs=32\n",
    "    imsize = 96\n",
    "    \n",
    "    learn = vision.load_learner(path=path+'./TRAIN/models', \n",
    "                                file=f'Classification_model{i_fold}.pkl')\n",
    "    \n",
    "    CLASS = 'label'\n",
    "    ID = 'Image_id'\n",
    "\n",
    "    test_data = (ImageList.from_df(df_test, test_images_path, suffix='.TIFF',convert_mode='RGBA')\n",
    "            .split_none()\n",
    "           .label_from_df(cols=CLASS)\n",
    "           .databunch(bs=bs))\n",
    "    \n",
    "    #results \n",
    "    predictions = []\n",
    "    predictionsC = []\n",
    "    trues = df_test[CLASS].tolist()\n",
    "    trues_check=[]\n",
    "    for true, img in zip(trues, df_test[ID].tolist()):\n",
    "        prediction = learn.predict(open_image(test_images_path+img+'.TIFF',convert_mode='RGBA'))\n",
    "        predictionsC.append(prediction)\n",
    "    \n",
    "    \n",
    "    pred_id = np.argmax(np.array([torch.nn.functional.softmax(a[2]).cpu().numpy() for a in predictionsC]), axis=1)\n",
    "    class_id = test_data.classes\n",
    "    cladd_id_dict = dict([(i,a) for (a,i) in enumerate(class_id)])\n",
    "    trues_id = np.array([cladd_id_dict[a] for a in trues])\n",
    "     \n",
    "    result_infe(pred_id,trues_id,total_result)\n"
   ]
  },
  {
   "cell_type": "markdown",
   "id": "historic-burner",
   "metadata": {},
   "source": [
    "# Results"
   ]
  },
  {
   "cell_type": "code",
   "execution_count": 40,
   "id": "moving-iceland",
   "metadata": {},
   "outputs": [
    {
     "name": "stdout",
     "output_type": "stream",
     "text": [
      "Test set: accuracy is 0.81±0.10.\n",
      "Test set: F1-score is 0.79±0.12.\n",
      "\n",
      "For HGG:\n",
      "Test set: precision_score = 0.85±0.10\n",
      "Test set: recall_score = 0.91±0.03\n",
      "\n",
      "For LGG:\n",
      "Test set: precision_score = 0.59±0.11\n",
      "Test set: recall_score = 0.47±0.15\n",
      "\n",
      "After Majoroty of Votes:\n",
      "Test set: accuracy after majority of votes is 0.82±0.11.\n",
      "Test set: F1-score after majority of votes is 0.81±0.13.\n"
     ]
    }
   ],
   "source": [
    "print(u'Test set: accuracy is {0:.2f}\\u00B1{1:.2f}.' .format(np.mean(total_result['acc']),np.std(total_result['acc'])))\n",
    "print(u'Test set: F1-score is {0:.2f}\\u00B1{1:.2f}.' .format(np.mean(total_result['F1']),np.std(total_result['F1'])))\n",
    "print('\\nFor HGG:')\n",
    "print(u'Test set: precision_score = {0:.2f}\\u00B1{1:.2f}'.format(np.mean(total_result['pre'][0]),np.std(total_result['pre'][0])))\n",
    "print(u'Test set: recall_score = {0:.2f}\\u00B1{1:.2f}'.format(np.mean(total_result['rec'][0]),np.std(total_result['rec'][0])))\n",
    "print('\\nFor LGG:')\n",
    "print(u'Test set: precision_score = {0:.2f}\\u00B1{1:.2f}'.format(np.mean(total_result['pre'][1]),np.std(total_result['pre'][1])))\n",
    "print(u'Test set: recall_score = {0:.2f}\\u00B1{1:.2f}'.format(np.mean(total_result['rec'][1]),np.std(total_result['rec'][1])))\n",
    "print('\\nAfter Majoroty of Votes:')\n",
    "print(u'Test set: accuracy after majority of votes is {0:.2f}\\u00B1{1:.2f}.' .format(np.mean(total_result['MV_acc']),np.std(total_result['MV_acc'])))\n",
    "print(u'Test set: F1-score after majority of votes is {0:.2f}\\u00B1{1:.2f}.' .format(np.mean(total_result['MV_F1']),np.std(total_result['MV_F1'])))"
   ]
  }
 ],
 "metadata": {
  "kernelspec": {
   "display_name": "Python 3",
   "language": "python",
   "name": "python3"
  },
  "language_info": {
   "codemirror_mode": {
    "name": "ipython",
    "version": 3
   },
   "file_extension": ".py",
   "mimetype": "text/x-python",
   "name": "python",
   "nbconvert_exporter": "python",
   "pygments_lexer": "ipython3",
   "version": "3.7.7"
  }
 },
 "nbformat": 4,
 "nbformat_minor": 5
}
